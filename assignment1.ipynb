{
 "cells": [
  {
   "cell_type": "markdown",
   "id": "d9f3166f05eb5272",
   "metadata": {},
   "source": [
    "# Assignment 1\n",
    "- deadline: 15.10.2025\n",
    "- you will learn: how to submit solutions\n",
    "- task: run all the cells below, add another cell where you print your GitHub username, commit and push the changes to your repository"
   ]
  },
  {
   "cell_type": "code",
   "execution_count": 3,
   "id": "172a7d5acb1aa308",
   "metadata": {},
   "outputs": [
    {
     "name": "stdout",
     "output_type": "stream",
     "text": [
      "2+1 =  3\n"
     ]
    }
   ],
   "source": [
    "print(\"2+1 = \", 2+1)"
   ]
  },
  {
   "cell_type": "code",
   "execution_count": 4,
   "id": "c64ead63",
   "metadata": {},
   "outputs": [
    {
     "name": "stdout",
     "output_type": "stream",
     "text": [
      "marek-maxa\n"
     ]
    }
   ],
   "source": [
    "print(\"marek-maxa\")"
   ]
  }
 ],
 "metadata": {
  "kernelspec": {
   "display_name": "Python 3",
   "language": "python",
   "name": "python3"
  },
  "language_info": {
   "codemirror_mode": {
    "name": "ipython",
    "version": 3
   },
   "file_extension": ".py",
   "mimetype": "text/x-python",
   "name": "python",
   "nbconvert_exporter": "python",
   "pygments_lexer": "ipython3",
   "version": "3.10.11"
  }
 },
 "nbformat": 4,
 "nbformat_minor": 5
}
