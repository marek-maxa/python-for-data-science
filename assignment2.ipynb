{
 "cells": [
  {
   "cell_type": "markdown",
   "id": "d9f3166f05eb5272",
   "metadata": {},
   "source": [
    "# Assignment 2: NumPy\n",
    "- **you will learn:** how to create and manipulate NumPy arrays, perform vectorized computations, and use basic NumPy functions for data analysis\n",
    "- **task:**  See section 2.9 below\n",
    "- **deadline:** 20.10.2025\n",
    "- [NumPy documentation](https://numpy.org/doc/stable/)\n",
    "- 📝 **Reminder:** Sync your GitHub repository with the main course repository, update your project in PyCharm, and after completing the assignment, commit and push your changes back to GitHub.\n",
    "---"
   ]
  },
  {
   "cell_type": "markdown",
   "id": "836a39339ef3e1b2",
   "metadata": {},
   "source": [
    "## 2.0 PEP 8 and Code Commenting\n",
    "\n",
    "### What is PEP 8?\n",
    "**PEP 8** is the official **style guide** for Python code.\n",
    "It defines conventions that make your code **clean, consistent, and easy to read**.\n",
    "While not mandatory, following PEP 8 is considered a sign of **professional and readable coding**.\n",
    "\n",
    "### Some Important PEP 8 Rules\n",
    "- ✅ **Line length:** keep lines **under 79 characters**.\n",
    "- ✅ **Spacing:**\n",
    "  - add spaces around operators (`a + b`, not `a+b`)\n",
    "  - add a space **after** commas, not before (`[1, 2, 3]`, not `[1 ,2 ,3]`)\n",
    "- ✅ **Variable and function names:** use lowercase with underscores (`calculate_mean`, not `CalculateMean`).\n",
    "- ✅ **Class names:** use `CamelCase` (`DataProcessor`).\n",
    "- ✅ **Imports:** at the top of the file, one per line.\n",
    "- ✅ **Blank lines:** use two blank lines between functions.\n",
    "\n",
    " **Official guide:** [PEP 8 – Style Guide for Python Code](https://peps.python.org/pep-0008/)\n",
    "\n",
    "### Comments and Docstrings\n",
    "Comments explain **what** your code does and **why**.\n",
    "Every function should include a **docstring** — a text enclosed in triple quotes `\"\"\" ... \"\"\"` that briefly describes the function’s purpose, parameters, and return value.\n",
    "\n",
    "#### Example:\n",
    "\n",
    "```python\n",
    "def calculate_mean(values):\n",
    "    \"\"\"\n",
    "    Compute the arithmetic mean of a list of numbers.\n",
    "\n",
    "    Parameters\n",
    "    ----------\n",
    "    values : list of float\n",
    "        Input numbers.\n",
    "\n",
    "    Returns\n",
    "    -------\n",
    "    float\n",
    "        The arithmetic mean of the input values.\n",
    "    \"\"\"\n",
    "    if not values:\n",
    "        return 0.0\n",
    "    return sum(values) / len(values)\n",
    "\n"
   ]
  },
  {
   "cell_type": "markdown",
   "id": "f639726d8899fde6",
   "metadata": {},
   "source": [
    "---\n",
    "## 2.1 What is a NumPy Array?\n",
    "\n",
    "- In computer programming, an **array** is a structure for storing and retrieving data.\n",
    "- They are the foundation for **data science, machine learning, and scientific computing** in Python.\n",
    "- We often visualize an array as a **grid in space**, with each cell storing one element of data.\n",
    "- Arrays can be **1D (vectors), 2D (matrices), or higher-dimensional (tensors)**.\n",
    "\n",
    "Most NumPy arrays have some rules:\n",
    "\n",
    "1. **Homogeneous type:** All elements must be of the same data type.\n",
    "2. **Fixed size:** Once created, the total size cannot change.\n",
    "3. **Rectangular shape:** All rows (in 2D arrays) must have the same number of columns — no jagged arrays.\n",
    "\n",
    "When these conditions are met, NumPy can exploit them to make arrays:\n",
    "\n",
    "- **Faster** (optimized C loops under the hood)\n",
    "- **More memory efficient** (contiguous memory storage)\n",
    "- **More convenient to use** (vectorized operations without explicit loops)"
   ]
  },
  {
   "cell_type": "code",
   "execution_count": null,
   "id": "f826db36465b85f7",
   "metadata": {},
   "outputs": [],
   "source": [
    "import numpy as np\n",
    "print(np.__version__)"
   ]
  },
  {
   "cell_type": "code",
   "execution_count": null,
   "id": "9449ad8688854fd7",
   "metadata": {},
   "outputs": [],
   "source": [
    "# Create 1D array (vector)\n",
    "vector = np.array([10, 20, 30, 40, 50])\n",
    "print(\"1D array (vector):\", vector)\n",
    "print(\"Shape:\", vector.shape, \"Dtype:\", vector.dtype)\n",
    "\n",
    "# Create 2D array (matrix)\n",
    "matrix = np.array([[1, 2, 3],\n",
    "                   [4, 5, 6],\n",
    "                   [7, 8, 9]])\n",
    "print(\"2D array (matrix):\\n\", matrix)\n",
    "print(\"Shape:\", matrix.shape, \"Dtype:\", matrix.dtype)\n",
    "\n",
    "# Vectorized operation: multiply all elements by 2 or square them\n",
    "matrix2 = 2 * matrix\n",
    "matrix_sq = matrix ** 2\n",
    "print(\"Matrix after multiplying by 2:\\n\", matrix2)\n",
    "print(\"Matrix after squaring by 2:\\n\", matrix_sq)"
   ]
  },
  {
   "cell_type": "markdown",
   "id": "eed4398b6b513855",
   "metadata": {},
   "source": [
    "---\n",
    "## 2.2 Constructing arrays\n",
    "\n",
    "There are several mechanisms for creating arrays. Among others:\n",
    "\n",
    "1. **Conversion from other Python structures**\n",
    "   Arrays can be created directly from existing **lists or tuples** using `np.array()`.\n",
    "   This is the most common and straightforward way to build an array from existing data."
   ]
  },
  {
   "cell_type": "code",
   "execution_count": null,
   "id": "d7ffddc3c7734d22",
   "metadata": {},
   "outputs": [],
   "source": [
    "# Conversion from Python structures\n",
    "a = np.array([1, 2, 3, 4, 5])\n",
    "b= np.array(((1,0),(0,1)))\n",
    "c = np.array([([1,2],[2,1]), ([3,1],[1,3])])\n",
    "print(\"From list:\\n\", a)\n",
    "print(\"From tuples of tuples:\\n\", b)\n",
    "print(\"From list of tuples or lists:\\n\", c)"
   ]
  },
  {
   "cell_type": "markdown",
   "id": "f223d4bc6eb455d8",
   "metadata": {},
   "source": [
    "\n",
    "2. **NumPy array creation functions**\n",
    "   NumPy provides a set of **built-in constructors** such as `np.zeros`, `np.ones`, `np.arange`, and `np.linspace`\n",
    "   to generate arrays of a specific shape or with evenly spaced values."
   ]
  },
  {
   "cell_type": "code",
   "execution_count": null,
   "id": "d78709e6b0134289",
   "metadata": {},
   "outputs": [],
   "source": [
    "# np.empty(shape, dtype)\n",
    "# Creates a new array *without initializing* its entries (values are arbitrary).\n",
    "arr_empty = np.empty((2,3), dtype=\"int32\")\n",
    "print(\"np.empty:\\n\", arr_empty)\n",
    "print(\"np.empty type:\", arr_empty.dtype)"
   ]
  },
  {
   "cell_type": "code",
   "execution_count": null,
   "id": "fdd3dead89dab21f",
   "metadata": {},
   "outputs": [],
   "source": [
    "# np.identity(n)\n",
    "# Shortcut for creating a square identity matrix (ones on the main diagonal).\n",
    "arr_identity = np.identity(4)\n",
    "print(\"np.identity:\\n\", arr_identity)"
   ]
  },
  {
   "cell_type": "code",
   "execution_count": null,
   "id": "7e9e5f7a324496d6",
   "metadata": {},
   "outputs": [],
   "source": [
    "# np.eye(N, M, k)\n",
    "# Creates a 2D array with ones on the main (or k-th) diagonal, zeros elsewhere.\n",
    "arr_eye = np.eye(4,4,-1)\n",
    "print(\"np.eye:\\n\", arr_eye)"
   ]
  },
  {
   "cell_type": "code",
   "execution_count": null,
   "id": "ecc36a2338ff3c43",
   "metadata": {},
   "outputs": [],
   "source": [
    "# np.ones(shape, dtype)\n",
    "# Creates an array of given shape filled with ones.\n",
    "arr_ones = np.ones((2, 4))\n",
    "print(\"np.ones:\\n\", arr_ones)"
   ]
  },
  {
   "cell_type": "code",
   "execution_count": null,
   "id": "34c08c3a6fb6ac86",
   "metadata": {},
   "outputs": [],
   "source": [
    "# np.zeros(shape, dtype)\n",
    "# Creates an array filled with zeros.\n",
    "arr_zeros = np.zeros((3, 3))\n",
    "print(\"np.zeros:\\n\", arr_zeros)"
   ]
  },
  {
   "cell_type": "code",
   "execution_count": null,
   "id": "6e109336811c8e5b",
   "metadata": {},
   "outputs": [],
   "source": [
    "# np.full(shape, fill_value)\n",
    "# Creates an array filled with a specified constant value.\n",
    "arr_full = np.full((2, 3), fill_value=7)\n",
    "print(\"np.full:\\n\", arr_full)"
   ]
  },
  {
   "cell_type": "code",
   "execution_count": null,
   "id": "73371815235e17fc",
   "metadata": {},
   "outputs": [],
   "source": [
    "# np.empty_like(prototype)\n",
    "# Creates an uninitialized array with the *same shape and dtype* as another array.\n",
    "prototype = np.array([[1, 2, 3], [4, 5, 6]], dtype=float)\n",
    "arr_zeros_like = np.zeros_like(prototype)\n",
    "print(\"np.empty_like:\\n\", arr_zeros_like)\n",
    "\n",
    "# Similarly with np.empty_like(a), np.zeros_like(a), np.full_like(a, fill_value)"
   ]
  },
  {
   "cell_type": "code",
   "execution_count": null,
   "id": "669f79b46b4739ed",
   "metadata": {},
   "outputs": [],
   "source": [
    "# np.arange([start,] stop[, step,][, dtype])\n",
    "# Returns evenly spaced values within a given interval.\n",
    "# Similar to Python's range(), but returns a NumPy array.\n",
    "arr_arange = np.arange(0, 10, 2, dtype=float)\n",
    "print(\"np.arange:\\n\", arr_arange)"
   ]
  },
  {
   "cell_type": "code",
   "execution_count": null,
   "id": "14a81938b4951f3e",
   "metadata": {},
   "outputs": [],
   "source": [
    "# np.linspace(start, stop[, num, endpoint])\n",
    "# Returns evenly spaced numbers over a specified interval.\n",
    "# Unlike arange, it lets you specify the number of samples.\n",
    "arr_linspace = np.linspace(0, 1, num=5)\n",
    "print(\"np.linspace:\\n\", arr_linspace)"
   ]
  },
  {
   "cell_type": "code",
   "execution_count": null,
   "id": "ce6247233767b152",
   "metadata": {},
   "outputs": [],
   "source": [
    "# np.diag(v[, k])\n",
    "# Construct a diagonal matrix from a 1D array, or extract a diagonal from a 2D array.\n",
    "v = np.array([1, 2, 3])\n",
    "arr_diag = np.diag(v)\n",
    "print(\"np.diag (construct from 1D):\\n\", arr_diag)"
   ]
  },
  {
   "cell_type": "code",
   "execution_count": null,
   "id": "390f928f5621792f",
   "metadata": {},
   "outputs": [],
   "source": [
    "# np.tril(m[, k])\n",
    "# Return the lower triangle of an array (elements above the k-th diagonal are zeroed).\n",
    "m = np.arange(1, 10).reshape(3, 3)\n",
    "arr_tril = np.tril(m)\n",
    "print(\"np.tril (lower triangle):\\n\", arr_tril)\n",
    "\n",
    "# similarly with np.triu(m[, k])"
   ]
  },
  {
   "cell_type": "markdown",
   "id": "560d0852690389d5",
   "metadata": {},
   "source": [
    "\n",
    "3. **Replicating, joining, or mutating existing arrays**\n",
    "   Arrays can be **copied, concatenated, reshaped, or repeated** to create new ones.\n",
    "   For example, you can use `np.tile`, `np.concatenate`, or `reshape` for this purpose."
   ]
  },
  {
   "cell_type": "code",
   "execution_count": null,
   "id": "6c72643ec73f7a04",
   "metadata": {},
   "outputs": [],
   "source": [
    "# np.reshape(a, newshape)\n",
    "# Changes the shape of an array without changing its data.\n",
    "a = np.arange(6)\n",
    "print(\"a:\\n\", a)\n",
    "reshaped = np.reshape(a, (3, 2))\n",
    "print(\"np.reshape:\\n\", reshaped)"
   ]
  },
  {
   "cell_type": "code",
   "execution_count": null,
   "id": "6f52ce66226a0913",
   "metadata": {},
   "outputs": [],
   "source": [
    "# a.flatten()\n",
    "# Flatten a multi-dimensional array into 1D.\n",
    "a2 = np.array([[1, 2], [3, 4]])\n",
    "print(\"a.flatten:\\n\", a2.flatten())"
   ]
  },
  {
   "cell_type": "code",
   "execution_count": null,
   "id": "12969da6ffbdfd26",
   "metadata": {},
   "outputs": [],
   "source": [
    "# np.transpose(a) or a.T\n",
    "# Swaps axes, e.g., turns rows into columns.\n",
    "print(\"np.transpose:\\n\", np.transpose(a2))"
   ]
  },
  {
   "cell_type": "code",
   "execution_count": null,
   "id": "a511179c3330353f",
   "metadata": {},
   "outputs": [],
   "source": [
    "# np.swapaxes(a, axis1, axis2)\n",
    "# Swaps any two axes in a multi-dimensional array.\n",
    "a3 = np.arange(8).reshape(2, 2, 2)\n",
    "print(\"a3:\\n\", a3)\n",
    "print(\"np.swapaxes:\\n\", np.swapaxes(a3, 0, 2))"
   ]
  },
  {
   "cell_type": "code",
   "execution_count": null,
   "id": "1416a8532833229c",
   "metadata": {},
   "outputs": [],
   "source": [
    "# np.moveaxis(a, source, destination)\n",
    "# Moves a given axis to a new position.\n",
    "a4 = np.zeros((2, 3, 4))\n",
    "print(\"np.moveaxis shape:\", np.moveaxis(a4, 0, -1).shape)"
   ]
  },
  {
   "cell_type": "code",
   "execution_count": null,
   "id": "fe89ddd4c223e40e",
   "metadata": {},
   "outputs": [],
   "source": [
    "# np.squeeze(a)\n",
    "# Removes axes of length 1.\n",
    "a5 = np.zeros((1, 3, 1))\n",
    "print(\"a5:\\n\", a5)\n",
    "print(\"np.squeeze shape:\", np.squeeze(a5).shape)\n",
    "print(\"a5 squeezed:\\n\", np.squeeze(a5))"
   ]
  },
  {
   "cell_type": "code",
   "execution_count": null,
   "id": "3291832f447d37aa",
   "metadata": {},
   "outputs": [],
   "source": [
    "# np.expand_dims(a, axis)\n",
    "# Adds a new dimension (axis) to the array.\n",
    "a6 = np.array([1, 2, 3])\n",
    "print(\"np.expand_dims shape:\", np.expand_dims(a6, axis=0).shape)"
   ]
  },
  {
   "cell_type": "code",
   "execution_count": null,
   "id": "dfa0170e423b6c06",
   "metadata": {},
   "outputs": [],
   "source": [
    "# np.concatenate((a1, a2, ...), axis)\n",
    "# Joins arrays along an existing axis.\n",
    "a7 = np.ones((2, 2))\n",
    "b7 = np.zeros((2, 2))\n",
    "print(\"np.concatenate:\\n\", np.concatenate((a7, b7), axis=1))"
   ]
  },
  {
   "cell_type": "code",
   "execution_count": null,
   "id": "afdff07c876803b3",
   "metadata": {},
   "outputs": [],
   "source": [
    "# np.stack((a1, a2, ...), axis)\n",
    "# Stacks arrays along a new axis.\n",
    "a8 = np.array([1, 2])\n",
    "b8 = np.array([3, 4])\n",
    "print(\"np.stack:\\n\", np.stack((a8, b8), axis=0))"
   ]
  },
  {
   "cell_type": "code",
   "execution_count": null,
   "id": "7e1969d2c8e3e536",
   "metadata": {},
   "outputs": [],
   "source": [
    "# np.split(a, sections, axis)\n",
    "# Splits an array into multiple subarrays.\n",
    "x = np.arange(9)\n",
    "print(\"np.split:\\n\", np.split(x, 3))"
   ]
  },
  {
   "cell_type": "code",
   "execution_count": null,
   "id": "549f87be717e0c68",
   "metadata": {},
   "outputs": [],
   "source": [
    "# np.copy(a)\n",
    "# Creates a deep copy of the array (independent of the original).\n",
    "a11 = np.array([1, 2, 3])\n",
    "b11 = a11.copy()\n",
    "b11[0] = 99\n",
    "print(\"Original:\", a11, \" | Copy:\", b11)"
   ]
  },
  {
   "cell_type": "code",
   "execution_count": null,
   "id": "a6e2fbe50a50b41e",
   "metadata": {},
   "outputs": [],
   "source": [
    "# np.astype(dtype)\n",
    "# Converts array elements to a new type.\n",
    "a12 = np.array([1, 2, 3])\n",
    "print(\"astype to float:\\n\", a12.astype(float))"
   ]
  },
  {
   "cell_type": "code",
   "execution_count": null,
   "id": "2a265507d63f840",
   "metadata": {},
   "outputs": [],
   "source": [
    "# np.clip(a, min, max)\n",
    "# Limits values to a given range.\n",
    "a13 = np.array([-1, 0, 2, 5])\n",
    "print(\"np.clip:\\n\", np.clip(a13, 0, 3))"
   ]
  },
  {
   "cell_type": "code",
   "execution_count": null,
   "id": "655944d6ee5d49c7",
   "metadata": {},
   "outputs": [],
   "source": [
    "# np.where(condition, x, y)\n",
    "# Selects elements based on a condition.\n",
    "a14 = np.array([1, 2, 3])\n",
    "print(\"np.where (a > 1 -> 100):\\n\", np.where(a14 > 1, 100, a14))"
   ]
  },
  {
   "cell_type": "markdown",
   "id": "a39594507e1a836a",
   "metadata": {},
   "source": [
    "\n",
    "4. **Creating Arrays from Other Libraries**\n",
    "\n",
    "Many Python libraries — such as **SciPy**, **Pandas**, and **OpenCV** — use NumPy `ndarray` objects as a **common format for data exchange**.\n",
    "These libraries can **create**, **manipulate**, and **interoperate with** NumPy arrays directly.\n"
   ]
  },
  {
   "cell_type": "markdown",
   "id": "c095658cbed35428",
   "metadata": {},
   "source": [
    "---\n",
    "## 2.3 Indexing arrays"
   ]
  },
  {
   "cell_type": "markdown",
   "id": "af057b561b906e05",
   "metadata": {},
   "source": [
    "Note that Python indexes (unlike for example R) start from 0, not from 1."
   ]
  },
  {
   "cell_type": "markdown",
   "id": "395343aaf26987ba",
   "metadata": {},
   "source": [
    "### Basic Indexing"
   ]
  },
  {
   "cell_type": "code",
   "execution_count": null,
   "id": "fe588aaa2cb62ffc",
   "metadata": {},
   "outputs": [],
   "source": [
    "# Create a 2D array for demonstration\n",
    "x = np.arange(1, 13).reshape(3, 4)\n",
    "print(\"Array x:\\n\", x)\n",
    "\n",
    "# 1. Single element indexing\n",
    "print(\"Single element x[1, 2]:\", x[1, 2])\n",
    "print(\"Same by chained indexing x[1][2]:\", x[1][2])"
   ]
  },
  {
   "cell_type": "code",
   "execution_count": null,
   "id": "7615f519beb291a1",
   "metadata": {},
   "outputs": [],
   "source": [
    "# 2. If fewer indices than dimensions, returns a subarray (view)\n",
    "print(\"x[0] returns first row (view):\", x[0])"
   ]
  },
  {
   "cell_type": "code",
   "execution_count": null,
   "id": "b6f293c0cdc6bd7f",
   "metadata": {},
   "outputs": [],
   "source": [
    "# 3. Slicing (rows, columns)\n",
    "print(\"x[0:2, 1:4] → rows 0 and 1, columns 1 to 3:\\n\", x[0:2, 1:4])"
   ]
  },
  {
   "cell_type": "code",
   "execution_count": null,
   "id": "a3e44e2fbf01de17",
   "metadata": {},
   "outputs": [],
   "source": [
    "# 4. Striding with step (convention start:stop:step)\n",
    "print(\"x[:, ::2] → all rows, every second column:\\n\", x[:, ::2])"
   ]
  },
  {
   "cell_type": "code",
   "execution_count": null,
   "id": "98c46369ed246a0b",
   "metadata": {},
   "outputs": [],
   "source": [
    "# 5. Using negative indices\n",
    "print(\"x[-1, -2]:\", x[-1, -2])  # last row, second-last column"
   ]
  },
  {
   "cell_type": "code",
   "execution_count": null,
   "id": "5c07e59fccda7397",
   "metadata": {},
   "outputs": [],
   "source": [
    "# 6. Ellipsis (`...`) and `newaxis` (alias None)\n",
    "# Ellipsis expands to as many \":\" as needed\n",
    "print(\"x[..., 2] → same as x[:, 2]:\", x[..., 2])\n",
    "\n",
    "# newaxis introduces a new dimension\n",
    "y = x[:, 1]  # shape (3,)\n",
    "y2 = x[:, 1, np.newaxis]  # shape (3,1)\n",
    "print(\"y shape:\", y.shape, \"   y2 shape:\", y2.shape)"
   ]
  },
  {
   "cell_type": "markdown",
   "id": "7c9700d74a9d0ca6",
   "metadata": {},
   "source": [
    "- All slicing operations produce views, not copies — they refer to the same underlying data.\n",
    "- Because of this, modifying a slice will affect the original array.\n",
    "- When using integer indexing (not slicing), you reduce a dimension.\n",
    "- : means “select all elements along this axis”.\n",
    "- ... is a convenient placeholder to fill in missing : for remaining axes."
   ]
  },
  {
   "cell_type": "markdown",
   "id": "6badd678ca258696",
   "metadata": {},
   "source": [
    "### Advanced Indexing"
   ]
  },
  {
   "cell_type": "code",
   "execution_count": null,
   "id": "dfd44a3583fe9b5d",
   "metadata": {},
   "outputs": [],
   "source": [
    "x = np.arange(1, 13).reshape(3, 4)\n",
    "print(\"Array x:\\n\", x)\n",
    "\n",
    "# 1. Integer array indexing\n",
    "row_idx = [0, 2]\n",
    "col_idx = [1, 3]\n",
    "# Select elements (0,1) and (2,3)\n",
    "print(\"x[row_idx, col_idx]:\", x[row_idx, col_idx])\n",
    "\n",
    "# Equivalent as\n",
    "print(\"The same as:\", np.array([x[0,1],x[2,3]]))"
   ]
  },
  {
   "cell_type": "code",
   "execution_count": null,
   "id": "2e01282e7b2dc228",
   "metadata": {},
   "outputs": [],
   "source": [
    "# 2. Broadcasting integer indices\n",
    "# If you supply fewer index arrays or scalars, they broadcast\n",
    "print(\"x[row_idx, 2]:\", x[row_idx, 2])\n",
    "print(\"The same as:\", x[[0,2], [2,2]])"
   ]
  },
  {
   "cell_type": "code",
   "execution_count": null,
   "id": "b3437a8fb58c4efa",
   "metadata": {},
   "outputs": [],
   "source": [
    "# 3. Boolean masking (Boolean indexing)\n",
    "mask = x % 2 == 0  # True for even numbers\n",
    "print(\"Boolean mask:\\n\", mask)\n",
    "print(\"x[mask] → all even elements:\", x[mask])\n",
    "\n",
    "# Example modification using Boolean mask\n",
    "x2 = x.copy()\n",
    "x2[x2 % 2 == 1] = -1\n",
    "print(\"x2 with odd elements replaced by –1:\\n\", x2)"
   ]
  },
  {
   "cell_type": "code",
   "execution_count": null,
   "id": "24ab23d2074f399d",
   "metadata": {},
   "outputs": [],
   "source": [
    "# 4. Combining basic and advanced indexing\n",
    "# e.g. select rows 0 and 2, but columns 1:3\n",
    "print(\"x[[0, 2], 1:3]:\\n\", x[[0, 2], 1:3])"
   ]
  },
  {
   "cell_type": "markdown",
   "id": "ec2840f9aa5bdd68",
   "metadata": {},
   "source": [
    "---\n",
    "## 2.4 Array attributes\n",
    "\n",
    "- Every NumPy array is a Python object of class `numpy.ndarray`.\n",
    "- Besides storing the actual data, it also stores various attributes that describe its structure and memory layout."
   ]
  },
  {
   "cell_type": "code",
   "execution_count": null,
   "id": "b34842346a73237a",
   "metadata": {},
   "outputs": [],
   "source": [
    "# Let's create a simple 2D array\n",
    "a = np.array([[1, 2, 3, 4],\n",
    "              [5, 6, 7, 8],\n",
    "              [9, 10, 11, 12]])\n",
    "\n",
    "print(\"Type of numpy array object:\", type(a))"
   ]
  },
  {
   "cell_type": "code",
   "execution_count": null,
   "id": "b35c323296e240e0",
   "metadata": {},
   "outputs": [],
   "source": [
    "print(\"Number of dimensions (ndim):\", a.ndim)\n",
    "print(\"Shape (rows, columns):\", a.shape)\n",
    "print(\"Total number of elements (size):\", a.size)\n",
    "print(\"Data type (dtype):\", a.dtype)\n",
    "print(\"Size of one element in bytes (itemsize):\", a.itemsize)\n",
    "print(\"Total size in bytes (nbytes):\", a.nbytes)\n",
    "print(\"Transposed array (T):\\n\", a.T)"
   ]
  },
  {
   "cell_type": "markdown",
   "id": "dfa4c7396c3a8a57",
   "metadata": {},
   "source": [
    "Example explanation:\n",
    "- ndim   → tells how many axes (dimensions) the array has\n",
    "- shape  → gives the length of each dimension as a tuple\n",
    "- size   → total count of elements = product of shape entries\n",
    "- dtype  → data type of the elements (e.g. int32, float64)\n",
    "- itemsize → bytes per element, depends on dtype\n",
    "- nbytes   → total memory used by the array\n",
    "- T        → shorthand for the transposed view (rows <-> columns)\n"
   ]
  },
  {
   "cell_type": "markdown",
   "id": "b9e6f3602326c5a2",
   "metadata": {},
   "source": [
    "---\n",
    "## 2.5 Array methods\n",
    "\n",
    "- A NumPy ndarray provides many built-in methods that operate on the array or return information about it. Most of these methods return a new array or a computed value derived from the data."
   ]
  },
  {
   "cell_type": "code",
   "execution_count": null,
   "id": "5a936f3ac91b1739",
   "metadata": {},
   "outputs": [],
   "source": [
    "# Create a 2D array\n",
    "a = np.array([[1, 2, 3], [4, 5, 6]])\n",
    "\n",
    "# Reshape the array to 3 rows and 2 columns\n",
    "reshaped = a.reshape(3, 2)\n",
    "print(\"Reshaped array:\\n\", reshaped)\n",
    "\n",
    "# Flatten the array to 1D\n",
    "flattened = a.flatten()\n",
    "print(\"\\nFlattened array:\", flattened)"
   ]
  },
  {
   "cell_type": "code",
   "execution_count": null,
   "id": "11e7eda086d3efc5",
   "metadata": {},
   "outputs": [],
   "source": [
    "# --- Max and Min ---\n",
    "print(\"Max element:\", a.max())                  # ndarray.max()\n",
    "print(\"Index of max (flattened):\", a.argmax())  # ndarray.argmax()\n",
    "print(\"Min element:\", a.min())                  # ndarray.min()\n",
    "print(\"Index of min (flattened):\", a.argmin())  # ndarray.argmin()"
   ]
  },
  {
   "cell_type": "code",
   "execution_count": null,
   "id": "d6de26ada6300b70",
   "metadata": {},
   "outputs": [],
   "source": [
    "# --- Rounding ---\n",
    "arr_float = np.array([[1.234, 2.567], [3.891, 4.456]])\n",
    "rounded = arr_float.round(1)             # Round to 1 decimal\n",
    "print(\"Rounded array:\\n\", rounded)"
   ]
  },
  {
   "cell_type": "code",
   "execution_count": null,
   "id": "295bffa74f875540",
   "metadata": {},
   "outputs": [],
   "source": [
    "# --- Trace ---\n",
    "print(\"Trace (sum of diagonal):\", a.trace())  # Sum along main diagonal"
   ]
  },
  {
   "cell_type": "code",
   "execution_count": null,
   "id": "700d744eaf72f44b",
   "metadata": {},
   "outputs": [],
   "source": [
    "# --- Sum, Cumsum, Mean ---\n",
    "print(\"Sum of all elements:\", a.sum())\n",
    "print(\"Cumulative sum along rows:\\n\", a.cumsum(axis=1))\n",
    "print(\"Mean along columns:\", a.mean(axis=0))"
   ]
  },
  {
   "cell_type": "code",
   "execution_count": null,
   "id": "513404c19cf54d86",
   "metadata": {},
   "outputs": [],
   "source": [
    "# --- Variance and Standard Deviation ---\n",
    "print(\"Variance of all elements:\", a.var())\n",
    "print(\"Standard deviation:\", a.std())"
   ]
  },
  {
   "cell_type": "code",
   "execution_count": null,
   "id": "e97c3164b8cde35c",
   "metadata": {},
   "outputs": [],
   "source": [
    "# --- Logical checks ---\n",
    "print(\"All elements > 0?\", (a > 0).all())\n",
    "print(\"Any element > 5?\", (a > 5).any())"
   ]
  },
  {
   "cell_type": "markdown",
   "id": "7c42182120b48203",
   "metadata": {},
   "source": [
    "---\n",
    "## 2.6 Arithmetic and linear algebra\n"
   ]
  },
  {
   "cell_type": "code",
   "execution_count": null,
   "id": "9817527bcfd9b6d8",
   "metadata": {},
   "outputs": [],
   "source": [
    "# Create example arrays\n",
    "a = np.array([[1, 2], [3, 4]])\n",
    "b = np.array([[5, 6], [7, 8]])\n",
    "\n",
    "print(\"Array a:\\n\", a)\n",
    "print(\"Array b:\\n\", b)\n"
   ]
  },
  {
   "cell_type": "code",
   "execution_count": null,
   "id": "e80d6deeb1172623",
   "metadata": {},
   "outputs": [],
   "source": [
    "# Addition (elementwise)\n",
    "print(\"Addition (a + b):\\n\", a + b)\n",
    "\n",
    "# Subtraction (elementwise)\n",
    "print(\"Subtraction (a - b):\\n\", a - b)\n",
    "\n",
    "# Multiplication (elementwise)\n",
    "print(\"Elementwise multiplication (a * b):\\n\", a * b)\n",
    "\n",
    "# Division (elementwise)\n",
    "print(\"Elementwise division (a / b):\\n\", a / b)\n",
    "\n",
    "# Exponentiation (elementwise)\n",
    "print(\"Elementwise power (a ** 2):\\n\", a ** 2)\n",
    "\n",
    "# Modulo (elementwise)\n",
    "print(\"Elementwise modulo (b % a):\\n\", b % a)"
   ]
  },
  {
   "cell_type": "code",
   "execution_count": null,
   "id": "bcb1864cd144ae",
   "metadata": {},
   "outputs": [],
   "source": [
    "# Matrix multiplication\n",
    "matmul = a @ b  # or np.matmul(a, b)\n",
    "print(\"Matrix multiplication (a @ b):\\n\", matmul)\n",
    "\n",
    "# Dot product\n",
    "dot = np.dot(a[0], b[0])\n",
    "print(\"Dot product (np.dot(a[0], b[0])):\\n\", dot)\n",
    "\n",
    "# Transpose\n",
    "print(\"Transpose of a (a.T):\\n\", a.T)\n",
    "\n",
    "# Determinant\n",
    "det = np.linalg.det(a)\n",
    "print(\"Determinant of a:\", det)\n",
    "\n",
    "# Inverse\n",
    "inv = np.linalg.inv(a)\n",
    "print(\"Inverse of a:\\n\", inv)\n",
    "\n",
    "# Eigenvalues and eigenvectors\n",
    "eigvals, eigvecs = np.linalg.eig(a)\n",
    "print(\"Eigenvalues of a:\", eigvals)\n",
    "print(\"Eigenvectors of a:\\n\", eigvecs)\n",
    "\n",
    "# Norms\n",
    "norm_a0 = np.linalg.norm(a[0])\n",
    "print(\"Frobenius norm of a[0]:\", norm_a0)"
   ]
  },
  {
   "cell_type": "markdown",
   "id": "34e8ef6774f9f33b",
   "metadata": {},
   "source": [
    "---\n",
    "## 2.7 Miscellaneous"
   ]
  },
  {
   "cell_type": "markdown",
   "id": "63040b8ed22d0802",
   "metadata": {},
   "source": [
    "**NumPy** provides optimized **mathematical functions** that work directly on entire arrays (`np.array` objects). These functions are implemented in **compiled C code**, which makes them **very fast**. They automatically apply the operation **elementwise** to all elements in the array — this is called **vectorization**."
   ]
  },
  {
   "cell_type": "code",
   "execution_count": null,
   "id": "d953338247784bf",
   "metadata": {},
   "outputs": [],
   "source": [
    "# These are elementwise functions that operate efficiently on ndarrays.\n",
    "\n",
    "# Create an example array\n",
    "a = np.array([0, np.pi/4, np.pi/2, np.pi])\n",
    "print(\"Array a:\\n\", a)\n",
    "\n",
    "# Elementwise trigonometric functions\n",
    "print(\"sin(a):\", np.sin(a))"
   ]
  },
  {
   "cell_type": "code",
   "execution_count": null,
   "id": "c0321d1a10da90b2",
   "metadata": {},
   "outputs": [],
   "source": [
    "b = np.array([1, 2, 3, 4])\n",
    "print(\"Array b:\\n\", b)\n",
    "\n",
    "# Exponential\n",
    "print(\"Exponential (e^b):\", np.exp(b))\n",
    "\n",
    "# Logarithms\n",
    "print(\"Natural log (ln(b)):\", np.log(b))\n",
    "print(\"Log base 10:\", np.log10(b))\n",
    "\n",
    "# Power\n",
    "print(\"b cubed:\", np.power(b, 3))\n",
    "c = np.array([1.234, 5.678, -9.1011])\n",
    "\n",
    "# Round to nearest integer\n",
    "print(\"Rounded:\", np.round(c))\n",
    "\n",
    "# Floor and ceiling\n",
    "print(\"Floor:\", np.floor(c))\n",
    "print(\"Ceil:\", np.ceil(c))\n",
    "\n",
    "# Absolute values\n",
    "print(\"Absolute values:\", np.abs(c))\n",
    "d = np.array([1, 2, 3, 4, 5])\n",
    "\n",
    "# Sum/product\n",
    "print(\"Sum:\", np.sum(d))\n",
    "print(\"Product:\", np.prod(d))"
   ]
  },
  {
   "cell_type": "markdown",
   "id": "fdc7d204dbd8c0b8",
   "metadata": {
    "ExecuteTime": {
     "end_time": "2025-10-05T16:52:24.663073Z",
     "start_time": "2025-10-05T16:52:24.650415Z"
    }
   },
   "source": [
    "---\n",
    "## 2.8 Python lists vs NumPy arrays\n",
    "\n",
    "Python lists are flexible but **slow and memory-inefficient** for numerical computations.\n",
    "NumPy arrays (`ndarray`) store data in **contiguous memory** and support **vectorized operations**, making them much faster and smaller in memory footprint.\n",
    "\n",
    "Let's compare both in terms of **execution speed** and **memory usage**."
   ]
  },
  {
   "cell_type": "code",
   "execution_count": null,
   "id": "a52bd6ebbaba5e3d",
   "metadata": {},
   "outputs": [],
   "source": [
    "import time, sys\n",
    "\n",
    "# Create a large list and a NumPy array\n",
    "n = 1_000_000\n",
    "py_list = list(range(n))\n",
    "np_array = np.arange(n)\n",
    "\n",
    "# Compare memory usage of both objects\n",
    "list_mem = sys.getsizeof(py_list) + sum(sys.getsizeof(x) for x in py_list)\n",
    "array_mem = np_array.nbytes\n",
    "print(f\"Python list memory: {list_mem / 1e6:.2f} MB\")\n",
    "print(f\"NumPy array memory: {array_mem / 1e6:.2f} MB\")\n",
    "print(f\"Memory ratio (list / array): {list_mem / array_mem:.1f}×\")\n",
    "\n",
    "# Compute 2x Python list\n",
    "list_start = time.time()\n",
    "list_result = [x * 2 for x in py_list]\n",
    "list_end = time.time()\n",
    "print(f\"Python list time: {list_end - list_start:.5f} s\")\n",
    "\n",
    "# Compute 2x NumPy array\n",
    "array_start = time.time()\n",
    "array_result = np_array * 2\n",
    "array_end = time.time()\n",
    "print(f\"NumPy array time: {array_end - array_start:.5f} s\")\n",
    "print(f\"Execution speed ratio (list / array): {(list_end - list_start) / (array_end - array_start):.1f}×\")"
   ]
  },
  {
   "cell_type": "markdown",
   "id": "740be24bfb152f1e",
   "metadata": {},
   "source": [
    "**Observation:**\n",
    "\n",
    "- NumPy operations are much faster because they run in optimized C loops rather than Python loops.\n",
    "- NumPy arrays use far less memory because all elements share the same data type and they are stored in an efficient way\n",
    "\n",
    "➡️ This demonstrates the two biggest advantages of NumPy:\n",
    "1. **Vectorization** (no explicit loops)\n",
    "2. **Efficient memory representation**"
   ]
  },
  {
   "cell_type": "markdown",
   "id": "e8feb0514d3defb9",
   "metadata": {},
   "source": [
    "---\n",
    "## 2.9  🏠 Homework: NumPy Arrays in Data Science\n",
    "\n",
    "### Task Overview\n",
    "In this assignment, you will practice working with **NumPy arrays** and **mathematical functions** to perform a mini data analysis. You will simulate a small part of a **data preprocessing pipeline** — a common step in data science when dealing with multivariate datasets.\n",
    "\n",
    "### Your Task\n",
    "\n",
    "1. **Generate synthetic data:**\n",
    "   - Create a NumPy array `data` of shape **(100, 10)** — representing 100 samples and 10 features.\n",
    "   - The values should be drawn from a **normal distribution** with mean = 50 and standard deviation = 10 using\n",
    "      `np.random.normal(loc=50, scale=10, size=(100, 10))`.\n",
    "   - Print the shape, data type, and the **first 5 rows** of the array.\n",
    "\n",
    "2. **Data cleaning:**\n",
    "   - Replace all values **smaller than 20** or **larger than 80** with `np.nan` (treat them as outliers).\n",
    "   - Print how many `np.nan` values are now in the array.\n",
    "\n",
    "3. **Handle missing values:**\n",
    "   - Compute the **mean of each column** ignoring missing values (`np.nanmean`).\n",
    "   - Replace all `np.nan` values in each column with that column’s mean.\n",
    "\n",
    "4. **Data transformation:**\n",
    "   - **Standardize each column** so that it has mean 0 and standard deviation 1.\n",
    "   - Create a new array where:\n",
    "     - all positive standardized values are replaced with their **square roots**,\n",
    "     - negative values remain unchanged.\n",
    "   - For the first 5 rows, also compute the **exponential (`np.exp`)** of all standardized values and print the result.\n",
    "\n",
    "5. **Array indexing and logical operations:**\n",
    "   - Compute the **75th percentile** for each column.\n",
    "   - Create a Boolean mask that marks all values above the 75th percentile.\n",
    "   - Print how many such “high” values there are in total.\n",
    "   - Replace all values **below the 25th percentile** (computed column-wise) with the 25th percentile value (a simple form of *winsorization*).\n",
    "\n",
    "6. **Descriptive statistics:**\n",
    "   - Compute and print for the final cleaned dataset:\n",
    "     - column-wise **mean**, **median**, **variance**, and **standard deviation**,\n",
    "     - the **overall mean** of the entire array,\n",
    "     - and the **minimum and maximum** values per column.\n",
    "\n",
    "### ✍️ Hints\n",
    "- Use functions such as `np.mean`, `np.std`, `np.nanmean`, `np.isnan`, `np.where`, `np.percentile`, `np.sqrt`, and `np.exp`.\n",
    "- Remember to specify the `axis` argument when computing column-wise statistics (`axis=0`).\n",
    "- Use **vectorized operations** — avoid `for` loops.\n",
    "- Include **comments or docstrings** to make your code clear and readable.\n"
   ]
  },
  {
   "cell_type": "markdown",
   "id": "fdc89ef6b5f4c40a",
   "metadata": {},
   "source": [
    "---\n",
    "## Your solution:"
   ]
  },
  {
   "cell_type": "code",
   "execution_count": 48,
   "id": "464d6685",
   "metadata": {},
   "outputs": [
    {
     "name": "stdout",
     "output_type": "stream",
     "text": [
      "Data shape: (100, 10)\n",
      "Data type: float64\n",
      "First 5 rows of data:\n",
      " [[54.96714153 48.61735699 56.47688538 65.23029856 47.65846625 47.65863043\n",
      "  65.79212816 57.67434729 45.30525614 55.42560044]\n",
      " [45.36582307 45.34270246 52.41962272 30.86719755 32.75082167 44.37712471\n",
      "  39.8716888  53.14247333 40.91975924 35.87696299]\n",
      " [64.65648769 47.742237   50.67528205 35.75251814 44.55617275 51.1092259\n",
      "  38.49006423 53.75698018 43.9936131  47.0830625 ]\n",
      " [43.98293388 68.52278185 49.86502775 39.42289071 58.22544912 37.7915635\n",
      "  52.08863595 30.40329876 36.71813951 51.96861236]\n",
      " [57.3846658  51.71368281 48.84351718 46.98896304 35.2147801  42.80155792\n",
      "  45.39361229 60.57122226 53.4361829  32.36959845]]\n"
     ]
    }
   ],
   "source": [
    "import numpy as np\n",
    "np.random.seed(42)\n",
    "data = np.random.normal(50, 10, (100, 10))\n",
    "print(\"Data shape:\", data.shape)\n",
    "print(\"Data type:\", data.dtype)\n",
    "print(\"First 5 rows of data:\\n\", data[:5])"
   ]
  },
  {
   "cell_type": "code",
   "execution_count": 49,
   "id": "98edda32",
   "metadata": {},
   "outputs": [
    {
     "name": "stdout",
     "output_type": "stream",
     "text": [
      "3\n"
     ]
    }
   ],
   "source": [
    "data[(data < 20) | (data > 80)] = np.nan\n",
    "print(np.isnan(data).sum())"
   ]
  },
  {
   "cell_type": "code",
   "execution_count": 50,
   "id": "7b0bfb89",
   "metadata": {},
   "outputs": [],
   "source": [
    "mean = np.nanmean(data)\n",
    "data[np.isnan(data)] = mean"
   ]
  },
  {
   "cell_type": "code",
   "execution_count": 51,
   "id": "5e94ca21",
   "metadata": {},
   "outputs": [
    {
     "name": "stdout",
     "output_type": "stream",
     "text": [
      "[[1.64331272 0.87086849 1.91111824 4.58609939 0.79124045 0.79125344\n",
      "  4.85113557 2.15423297 0.62533086 1.72040554]\n",
      " [0.62912979 0.62767689 1.27374614 0.14759544 0.17818769 0.5699039\n",
      "  0.36318929 1.36922835 0.40332037 0.2435815 ]\n",
      " [4.33035173 0.79789657 1.06986043 0.24056903 0.58019982 1.11730841\n",
      "  0.31632232 1.45600738 0.54846123 0.74699727]\n",
      " [0.54787583 6.37432488 0.98659345 0.34724978 2.27628542 0.2949812\n",
      "  1.2322769  0.14090489 0.26495745 1.21757507]\n",
      " [2.09272403 1.18692779 0.89078847 0.74000103 0.22797439 0.48682809\n",
      "  0.63088053 2.87807661 1.41004031 0.17152261]]\n"
     ]
    }
   ],
   "source": [
    "data = (data - 50) / 10\n",
    "data_new = data.copy()\n",
    "data_new[data > 0] = np.sqrt(data_new[data > 0])\n",
    "print(np.exp(data[:5]))"
   ]
  },
  {
   "cell_type": "code",
   "execution_count": 55,
   "id": "29017503",
   "metadata": {},
   "outputs": [
    {
     "name": "stdout",
     "output_type": "stream",
     "text": [
      "250\n"
     ]
    }
   ],
   "source": [
    "perc75 = np.percentile(data, 75, axis=0)\n",
    "mask = data > perc75\n",
    "print(np.sum(mask))\n",
    "perc25 = np.percentile(data, 25, axis=0)\n",
    "data = np.where(data < perc25, perc25, data)"
   ]
  },
  {
   "cell_type": "code",
   "execution_count": 56,
   "id": "a8b58474",
   "metadata": {},
   "outputs": [
    {
     "name": "stdout",
     "output_type": "stream",
     "text": [
      "Mean of each column: [0.13976314 0.15574682 0.12182922 0.23858037 0.22330142 0.09968057\n",
      " 0.07140774 0.16883639 0.13969392 0.15417094]\n",
      "Median of each column: [ 0.07907801 -0.05291139 -0.00412676  0.20000921 -0.02701428 -0.06302677\n",
      "  0.01346559  0.0944963   0.05696682 -0.01992946]\n",
      "Variance of each column: [0.50161316 0.69982036 0.6263786  0.69838164 0.7092375  0.6314663\n",
      " 0.60500611 0.52200814 0.42147113 0.5909632 ]\n",
      "Standard deviation of each column: [0.70824654 0.83655266 0.79144084 0.83569231 0.8421624  0.79464854\n",
      " 0.77782139 0.72250131 0.64920808 0.76874131]\n",
      "Overall mean: 0.15130105218210674\n",
      "Minimum of each column: [-0.57415596 -0.71036305 -0.68494992 -0.67836735 -0.62225216 -0.70597017\n",
      " -0.77615522 -0.57261614 -0.53281578 -0.62830458]\n",
      "Maximum of each column: [2.52693243 2.0754008  2.56008454 2.46324211 2.5733598  2.63238206\n",
      " 1.8861859  2.45530014 2.18980293 2.72016917]\n"
     ]
    }
   ],
   "source": [
    "print(\"Mean of each column:\", data.mean(axis=0))\n",
    "print(\"Median of each column:\", np.median(data, axis=0))\n",
    "print(\"Variance of each column:\", data.var(axis=0))\n",
    "print(\"Standard deviation of each column:\", data.std(axis=0))\n",
    "\n",
    "print(\"Overall mean:\", data.mean())\n",
    "\n",
    "print(\"Minimum of each column:\", data.min(axis=0))\n",
    "print(\"Maximum of each column:\", data.max(axis=0))\n"
   ]
  }
 ],
 "metadata": {
  "kernelspec": {
   "display_name": "Python 3",
   "language": "python",
   "name": "python3"
  },
  "language_info": {
   "codemirror_mode": {
    "name": "ipython",
    "version": 3
   },
   "file_extension": ".py",
   "mimetype": "text/x-python",
   "name": "python",
   "nbconvert_exporter": "python",
   "pygments_lexer": "ipython3",
   "version": "3.10.11"
  }
 },
 "nbformat": 4,
 "nbformat_minor": 5
}
